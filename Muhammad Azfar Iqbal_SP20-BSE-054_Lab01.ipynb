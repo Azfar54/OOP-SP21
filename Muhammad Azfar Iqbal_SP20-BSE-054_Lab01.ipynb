{
 "cells": [
  {
   "cell_type": "markdown",
   "id": "3086325d",
   "metadata": {},
   "source": [
    "# Lab 1"
   ]
  },
  {
   "cell_type": "markdown",
   "id": "1bbe9e2c",
   "metadata": {},
   "source": [
    "# Task 1"
   ]
  },
  {
   "cell_type": "markdown",
   "id": "08eb10a8",
   "metadata": {},
   "source": [
    "Write a program that prompts the user to input an integer and then outputs the number with the digits \n",
    "reversed.\n",
    "\n",
    "For example, if the input is 12345, the output should be 54321."
   ]
  },
  {
   "cell_type": "code",
   "execution_count": 6,
   "id": "b9eed8c9",
   "metadata": {},
   "outputs": [
    {
     "name": "stdout",
     "output_type": "stream",
     "text": [
      "Enter the integer number: 12345\n",
      "The reverse number is : 54321\n"
     ]
    }
   ],
   "source": [
    "# ask number input from the user\n",
    "num = int(input(\"Enter the integer number: \"))\n",
    "\n",
    "# Initiate value to zero or null\n",
    "reverse_num = 0\n",
    "\n",
    "# reverse the integer number using the while loop\n",
    "\n",
    "while (num > 0):\n",
    "    # Logic\n",
    "    remainder = num % 10\n",
    "    reverse_num = (reverse_num * 10) + remainder\n",
    "    num = num // 10\n",
    "\n",
    "# Display the result\n",
    "print(\"The reverse number is : {}\".format(reverse_num))"
   ]
  },
  {
   "cell_type": "markdown",
   "id": "2afe59bc",
   "metadata": {},
   "source": [
    "# Task 2"
   ]
  },
  {
   "cell_type": "markdown",
   "id": "78e17fe4",
   "metadata": {},
   "source": [
    "Write a program that reads a set of integers, and then prints the sum of the even and odd integers."
   ]
  },
  {
   "cell_type": "code",
   "execution_count": 8,
   "id": "d3140598",
   "metadata": {},
   "outputs": [
    {
     "name": "stdout",
     "output_type": "stream",
     "text": [
      "please enter the maximum value: 18\n",
      "The sum of Even numbers 1 to entered number 90\n",
      "The sum of Even numbers 1 to entered number 81\n"
     ]
    }
   ],
   "source": [
    "#program to calculate sum of odd and even numbers\n",
    "maximum=int(input(\"please enter the maximum value: \"))\n",
    "even_sum=0\n",
    "odd_sum=0\n",
    "num=1\n",
    "\n",
    "#using while loop\n",
    "while (num<=maximum):\n",
    "    if (num%2==0):\n",
    "        even_sum=even_sum+num\n",
    "    else:\n",
    "        odd_sum=odd_sum+num\n",
    "    num+=1\n",
    "print(\"The sum of Even numbers 1 to entered number\", even_sum)\n",
    "print(\"The sum of Even numbers 1 to entered number\", odd_sum)"
   ]
  },
  {
   "cell_type": "markdown",
   "id": "16d96218",
   "metadata": {},
   "source": [
    "# Task 3"
   ]
  },
  {
   "cell_type": "markdown",
   "id": "e4657fd9",
   "metadata": {},
   "source": [
    "Fibonacci series is that when you add the previous two numbers the next number is formed. You have \n",
    "to start from 0 and 1. \n",
    "Steps: You have to take an input number that shows how many terms to be displayed. Then use loops \n",
    "for displaying the Fibonacci series up to that term e.g. input no is =6 the output should be \n",
    "\n",
    "0 1 1 2 3 5"
   ]
  },
  {
   "cell_type": "code",
   "execution_count": 10,
   "id": "3f0b76f4",
   "metadata": {},
   "outputs": [
    {
     "name": "stdout",
     "output_type": "stream",
     "text": [
      "Enter the number of terms: 11\n",
      "Fibonacci series is:\n",
      "0\n",
      "1\n",
      "1\n",
      "2\n",
      "3\n",
      "5\n",
      "8\n",
      "13\n",
      "21\n",
      "34\n",
      "55\n"
     ]
    }
   ],
   "source": [
    "# Program to display the Fibonacci sequence according to given terms\n",
    "\n",
    "terms = int(input(\"Enter the number of terms: \"))\n",
    "\n",
    "# first two terms\n",
    "num1, num2 = 0, 1\n",
    "count = 0\n",
    "\n",
    "# checking if the number of terms is valid\n",
    "if terms <= 0:\n",
    "   print(\"Please enter a positive integer\")\n",
    "# if there is only one term, return num1\n",
    "elif terms == 1:\n",
    "   print(\"Fibonacci sequence upto\",terms,\":\")\n",
    "   print(num1)\n",
    "# generate fibonacci sequence\n",
    "else:\n",
    "   print(\"Fibonacci series is:\")\n",
    "   while count < terms:\n",
    "       print(num1)\n",
    "       nth = num1 + num2\n",
    "       # updating values\n",
    "       num1 = num2\n",
    "       num2 = nth\n",
    "       count += 1"
   ]
  },
  {
   "cell_type": "markdown",
   "id": "a6a1786b",
   "metadata": {},
   "source": [
    "# Task 4"
   ]
  },
  {
   "cell_type": "markdown",
   "id": "9e1d6549",
   "metadata": {},
   "source": [
    "Write a Python code to accept marks of a student from 1-100 and display the grade according to the \n",
    "following formula. \n",
    "\n",
    "Grade F if marks are less than 50 \n",
    "\n",
    "Grade E if marks are between 50 to 60 \n",
    "\n",
    "Grade D if marks are between 61 to 70 \n",
    "\n",
    "Grade C if marks are between 71 to 80 \n",
    "\n",
    "Grade B if marks are between 81 to 90 \n",
    "\n",
    "Grade A if marks are between 91 to 100"
   ]
  },
  {
   "cell_type": "code",
   "execution_count": 11,
   "id": "11621f8f",
   "metadata": {},
   "outputs": [
    {
     "name": "stdout",
     "output_type": "stream",
     "text": [
      "Enter the marks: 85\n",
      "Grade: B\n"
     ]
    }
   ],
   "source": [
    "marks = float(input(\"Enter the marks: \"))\n",
    "\n",
    "if marks >= 91 and marks<=100:\n",
    "    print(\"Grade: A\")\n",
    "elif marks >= 81 and marks <= 90:\n",
    "    print(\"Grade: B\")\n",
    "elif marks >= 71 and marks <= 80:\n",
    "    print(\"Grade: C\")\n",
    "elif marks >= 61 and marks <= 70:\n",
    "    print(\"Grade: D\")\n",
    "elif marks >= 51 and marks <= 60:\n",
    "    print(\"Grade: E\")\n",
    "else:\n",
    "    print(\"Grade: F\")"
   ]
  },
  {
   "cell_type": "markdown",
   "id": "b35fa97e",
   "metadata": {},
   "source": [
    "# Task 5"
   ]
  },
  {
   "cell_type": "markdown",
   "id": "274f999d",
   "metadata": {},
   "source": [
    "Write a program that takes a number from user and calculate the factorial of that number."
   ]
  },
  {
   "cell_type": "code",
   "execution_count": 12,
   "id": "4e1a6824",
   "metadata": {},
   "outputs": [
    {
     "name": "stdout",
     "output_type": "stream",
     "text": [
      "enter a number: 6\n",
      "factorial of  6  is  720\n"
     ]
    }
   ],
   "source": [
    "#Program to find the factorial of a given number\n",
    "\n",
    "num = int(input(\"enter a number: \"))\n",
    "\n",
    "fact = 1\n",
    "i = 1\n",
    "\n",
    "while i <= num:\n",
    "    fact = fact * i\n",
    "    i += 1\n",
    "\n",
    "print(\"factorial of \", num, \" is \", fact)"
   ]
  },
  {
   "cell_type": "markdown",
   "id": "f8861308",
   "metadata": {},
   "source": [
    "# The End"
   ]
  }
 ],
 "metadata": {
  "kernelspec": {
   "display_name": "Python 3 (ipykernel)",
   "language": "python",
   "name": "python3"
  },
  "language_info": {
   "codemirror_mode": {
    "name": "ipython",
    "version": 3
   },
   "file_extension": ".py",
   "mimetype": "text/x-python",
   "name": "python",
   "nbconvert_exporter": "python",
   "pygments_lexer": "ipython3",
   "version": "3.9.12"
  }
 },
 "nbformat": 4,
 "nbformat_minor": 5
}
